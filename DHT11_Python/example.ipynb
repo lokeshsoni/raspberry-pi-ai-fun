{
 "cells": [
  {
   "cell_type": "code",
   "execution_count": 1,
   "metadata": {},
   "outputs": [],
   "source": [
    "import RPi.GPIO as GPIO\n",
    "import dht11\n",
    "import time\n",
    "import datetime"
   ]
  },
  {
   "cell_type": "code",
   "execution_count": 2,
   "metadata": {},
   "outputs": [],
   "source": [
    "# initialize GPIO\n",
    "GPIO.setwarnings(False)\n",
    "GPIO.setmode(GPIO.BCM)\n",
    "GPIO.cleanup()"
   ]
  },
  {
   "cell_type": "code",
   "execution_count": 3,
   "metadata": {},
   "outputs": [],
   "source": [
    "# read data using pin 14\n",
    "instance = dht11.DHT11(pin=4)"
   ]
  },
  {
   "cell_type": "code",
   "execution_count": 8,
   "metadata": {},
   "outputs": [
    {
     "name": "stdout",
     "output_type": "stream",
     "text": [
      "Temperature: 1 C \t Humidity: 2 \n",
      "Temperature: 1 C \t Humidity: 2 \n",
      "Temperature: 1 C \t Humidity: 2 \n",
      "Temperature: 1 C \t Humidity: 2 \n",
      "Temperature: 1 C \t Humidity: 2 \n",
      "Temperature: 1 C \t Humidity: 2 \n",
      "Temperature: 1 C \t Humidity: 2 \n",
      "Temperature: 1 C \t Humidity: 2 \n",
      "Temperature: 1 C \t Humidity: 2 \n",
      "Temperature: 1 C \t Humidity: 2 \n",
      "Temperature: 1 C \t Humidity: 2 \n",
      "Temperature: 1 C \t Humidity: 2 \n",
      "Temperature: 1 C \t Humidity: 2 \n",
      "Temperature: 1 C \t Humidity: 2 \n",
      "Temperature: 1 C \t Humidity: 3 \n",
      "Temperature: 1 C \t Humidity: 3 \n",
      "Temperature: 1 C \t Humidity: 3 \n",
      "Temperature: 1 C \t Humidity: 3 \n",
      "Temperature: 1 C \t Humidity: 3 \n",
      "Temperature: 1 C \t Humidity: 2 \n",
      "Temperature: 1 C \t Humidity: 2 \n",
      "Temperature: 1 C \t Humidity: 2 \n",
      "Temperature: 1 C \t Humidity: 3 \n",
      "Temperature: 1 C \t Humidity: 3 \n",
      "Temperature: 1 C \t Humidity: 3 \n",
      "Temperature: 1 C \t Humidity: 3 \n",
      "Temperature: 1 C \t Humidity: 3 \n",
      "Temperature: 1 C \t Humidity: 3 \n",
      "Temperature: 1 C \t Humidity: 3 \n",
      "Temperature: 1 C \t Humidity: 3 \n",
      "Temperature: 1 C \t Humidity: 2 \n",
      "Temperature: 1 C \t Humidity: 2 \n",
      "Temperature: 1 C \t Humidity: 2 \n",
      "Temperature: 1 C \t Humidity: 2 \n"
     ]
    },
    {
     "ename": "KeyboardInterrupt",
     "evalue": "",
     "output_type": "error",
     "traceback": [
      "\u001b[0;31m---------------------------------------------------------------------------\u001b[0m",
      "\u001b[0;31mKeyboardInterrupt\u001b[0m                         Traceback (most recent call last)",
      "\u001b[0;32m<ipython-input-8-4325c47f620a>\u001b[0m in \u001b[0;36m<module>\u001b[0;34m\u001b[0m\n\u001b[1;32m      4\u001b[0m         \u001b[0mprint\u001b[0m\u001b[0;34m(\u001b[0m\u001b[0;34m\"Temperature: %d C \\t Humidity: %d \"\u001b[0m \u001b[0;34m%\u001b[0m \u001b[0;34m(\u001b[0m\u001b[0mresult\u001b[0m\u001b[0;34m.\u001b[0m\u001b[0mtemperature\u001b[0m\u001b[0;34m,\u001b[0m \u001b[0mresult\u001b[0m\u001b[0;34m.\u001b[0m\u001b[0mhumidity\u001b[0m\u001b[0;34m)\u001b[0m\u001b[0;34m)\u001b[0m\u001b[0;34m\u001b[0m\u001b[0m\n\u001b[1;32m      5\u001b[0m \u001b[0;34m\u001b[0m\u001b[0m\n\u001b[0;32m----> 6\u001b[0;31m     \u001b[0mtime\u001b[0m\u001b[0;34m.\u001b[0m\u001b[0msleep\u001b[0m\u001b[0;34m(\u001b[0m\u001b[0;36m1\u001b[0m\u001b[0;34m)\u001b[0m\u001b[0;34m\u001b[0m\u001b[0m\n\u001b[0m",
      "\u001b[0;31mKeyboardInterrupt\u001b[0m: "
     ]
    }
   ],
   "source": [
    "while True:\n",
    "    result = instance.read()\n",
    "    if result.is_valid():\n",
    "        print(\"Temperature: %d C \\t Humidity: %d \" % (result.temperature, result.humidity))\n",
    "\n",
    "    time.sleep(1)"
   ]
  },
  {
   "cell_type": "code",
   "execution_count": null,
   "metadata": {},
   "outputs": [],
   "source": []
  },
  {
   "cell_type": "code",
   "execution_count": null,
   "metadata": {},
   "outputs": [],
   "source": []
  }
 ],
 "metadata": {
  "kernelspec": {
   "display_name": "Python 3",
   "language": "python",
   "name": "python3"
  },
  "language_info": {
   "codemirror_mode": {
    "name": "ipython",
    "version": 3
   },
   "file_extension": ".py",
   "mimetype": "text/x-python",
   "name": "python",
   "nbconvert_exporter": "python",
   "pygments_lexer": "ipython3",
   "version": "3.5.3"
  }
 },
 "nbformat": 4,
 "nbformat_minor": 2
}
